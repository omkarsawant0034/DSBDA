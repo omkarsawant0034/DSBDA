{
 "cells": [
  {
   "cell_type": "code",
   "execution_count": 4,
   "id": "858ead12",
   "metadata": {},
   "outputs": [],
   "source": [
    "import pandas as pd"
   ]
  },
  {
   "cell_type": "code",
   "execution_count": 5,
   "id": "64dc2c5f",
   "metadata": {},
   "outputs": [],
   "source": [
    "d1 = {'Name': ['Samarth', 'Omkar', 'Vaishnavi'], 'Country': ['India', 'India', 'USA'], 'Role': ['CEO', 'CTO', 'CTO']}\n",
    "d2 = {'ID': [1, 2, 3], 'Name': ['Samarth', 'Amardeep', 'Prajwal']}"
   ]
  },
  {
   "cell_type": "code",
   "execution_count": 6,
   "id": "09a1b8e9",
   "metadata": {},
   "outputs": [],
   "source": [
    "df1 = pd.DataFrame(d1)"
   ]
  },
  {
   "cell_type": "code",
   "execution_count": 7,
   "id": "aa280ae0",
   "metadata": {},
   "outputs": [
    {
     "name": "stdout",
     "output_type": "stream",
     "text": [
      "DataFrame 1:\n",
      "         Name Country Role\n",
      "0    Samarth   India  CEO\n",
      "1      Omkar   India  CTO\n",
      "2  Vaishnavi     USA  CTO\n"
     ]
    }
   ],
   "source": [
    "print('DataFrame 1:\\n', df1)"
   ]
  },
  {
   "cell_type": "code",
   "execution_count": 8,
   "id": "06770d68",
   "metadata": {},
   "outputs": [],
   "source": [
    "df2 = pd.DataFrame(d2)"
   ]
  },
  {
   "cell_type": "code",
   "execution_count": 9,
   "id": "6a1eb26e",
   "metadata": {},
   "outputs": [
    {
     "name": "stdout",
     "output_type": "stream",
     "text": [
      "DataFrame 2:\n",
      "    ID      Name\n",
      "0   1   Samarth\n",
      "1   2  Amardeep\n",
      "2   3   Prajwal\n"
     ]
    }
   ],
   "source": [
    "print('DataFrame 2:\\n', df2)"
   ]
  },
  {
   "cell_type": "code",
   "execution_count": 15,
   "id": "2bfcea56",
   "metadata": {},
   "outputs": [],
   "source": [
    "country = df1[df1['Country'] == 'India']"
   ]
  },
  {
   "cell_type": "code",
   "execution_count": 17,
   "id": "f572cb6d",
   "metadata": {},
   "outputs": [
    {
     "name": "stdout",
     "output_type": "stream",
     "text": [
      "      Name Country Role\n",
      "0  Samarth   India  CEO\n",
      "1    Omkar   India  CTO\n"
     ]
    }
   ],
   "source": [
    "print(country)"
   ]
  },
  {
   "cell_type": "code",
   "execution_count": 21,
   "id": "6eaa1205",
   "metadata": {},
   "outputs": [],
   "source": [
    "id = df2[df2['ID'] > 1]"
   ]
  },
  {
   "cell_type": "code",
   "execution_count": 22,
   "id": "30659953",
   "metadata": {},
   "outputs": [
    {
     "name": "stdout",
     "output_type": "stream",
     "text": [
      "   ID      Name\n",
      "1   2  Amardeep\n",
      "2   3   Prajwal\n"
     ]
    }
   ],
   "source": [
    "print(id)"
   ]
  },
  {
   "cell_type": "code",
   "execution_count": null,
   "id": "a577ac80",
   "metadata": {},
   "outputs": [],
   "source": [
    "#Merging"
   ]
  },
  {
   "cell_type": "code",
   "execution_count": 10,
   "id": "ade38412",
   "metadata": {},
   "outputs": [
    {
     "name": "stdout",
     "output_type": "stream",
     "text": [
      "Result Inner Join:\n",
      "       Name Country Role  ID\n",
      "0  Samarth   India  CEO   1\n"
     ]
    }
   ],
   "source": [
    "df_merged = df1.merge(df2)\n",
    "print('Result Inner Join:\\n', df_merged)"
   ]
  },
  {
   "cell_type": "code",
   "execution_count": 11,
   "id": "fec4c742",
   "metadata": {},
   "outputs": [
    {
     "name": "stdout",
     "output_type": "stream",
     "text": [
      "Result Left Join:\n",
      "         Name Country Role   ID\n",
      "0    Samarth   India  CEO  1.0\n",
      "1      Omkar   India  CTO  NaN\n",
      "2  Vaishnavi     USA  CTO  NaN\n"
     ]
    }
   ],
   "source": [
    "print('Result Left Join:\\n', df1.merge(df2, how='left'))"
   ]
  },
  {
   "cell_type": "code",
   "execution_count": 12,
   "id": "53bb1243",
   "metadata": {},
   "outputs": [
    {
     "name": "stdout",
     "output_type": "stream",
     "text": [
      "Result Right Join:\n",
      "        Name Country Role  ID\n",
      "0   Samarth   India  CEO   1\n",
      "1  Amardeep     NaN  NaN   2\n",
      "2   Prajwal     NaN  NaN   3\n"
     ]
    }
   ],
   "source": [
    "print('Result Right Join:\\n', df1.merge(df2, how='right'))"
   ]
  },
  {
   "cell_type": "code",
   "execution_count": 13,
   "id": "f297dd3c",
   "metadata": {},
   "outputs": [
    {
     "name": "stdout",
     "output_type": "stream",
     "text": [
      "Result Outer Join:\n",
      "         Name Country Role   ID\n",
      "0    Samarth   India  CEO  1.0\n",
      "1      Omkar   India  CTO  NaN\n",
      "2  Vaishnavi     USA  CTO  NaN\n",
      "3   Amardeep     NaN  NaN  2.0\n",
      "4    Prajwal     NaN  NaN  3.0\n"
     ]
    }
   ],
   "source": [
    "print('Result Outer Join:\\n', df1.merge(df2, how ='outer'))"
   ]
  },
  {
   "cell_type": "code",
   "execution_count": null,
   "id": "f3a5b75a",
   "metadata": {},
   "outputs": [],
   "source": []
  }
 ],
 "metadata": {
  "kernelspec": {
   "display_name": "Python 3 (ipykernel)",
   "language": "python",
   "name": "python3"
  },
  "language_info": {
   "codemirror_mode": {
    "name": "ipython",
    "version": 3
   },
   "file_extension": ".py",
   "mimetype": "text/x-python",
   "name": "python",
   "nbconvert_exporter": "python",
   "pygments_lexer": "ipython3",
   "version": "3.11.3"
  }
 },
 "nbformat": 4,
 "nbformat_minor": 5
}
