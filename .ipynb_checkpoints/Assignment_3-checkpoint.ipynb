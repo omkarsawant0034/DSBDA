{
 "cells": [
  {
   "cell_type": "code",
   "execution_count": 9,
   "id": "69f4f99b",
   "metadata": {},
   "outputs": [],
   "source": [
    "import nltk\n",
    "from nltk.corpus import stopwords\n",
    "from nltk.tokenize import word_tokenize\n",
    "from nltk.stem import WordNetLemmatizer, PorterStemmer"
   ]
  },
  {
   "cell_type": "code",
   "execution_count": 10,
   "id": "23641d1f",
   "metadata": {},
   "outputs": [],
   "source": [
    "text = \"He enjoys running and he runs in the park every day when it is not raining.\""
   ]
  },
  {
   "cell_type": "code",
   "execution_count": 13,
   "id": "4e4071ca",
   "metadata": {},
   "outputs": [],
   "source": [
    "# Tokenize the text into words\n",
    "words = word_tokenize(text)"
   ]
  },
  {
   "cell_type": "code",
   "execution_count": 14,
   "id": "4339d84c",
   "metadata": {},
   "outputs": [],
   "source": [
    "# Get English stopwords from NLTK\n",
    "stop_words = set(stopwords.words('english'))"
   ]
  },
  {
   "cell_type": "code",
   "execution_count": 21,
   "id": "df7780a6",
   "metadata": {},
   "outputs": [],
   "source": [
    "filtered_words = [word for word in words if word.lower() not in stop_words]\n"
   ]
  },
  {
   "cell_type": "code",
   "execution_count": 15,
   "id": "52deecae",
   "metadata": {},
   "outputs": [],
   "source": [
    "# Initialize WordNet lemmatizer and Porter stemmer\n",
    "lemmatizer = WordNetLemmatizer()\n",
    "stemmer = PorterStemmer()"
   ]
  },
  {
   "cell_type": "code",
   "execution_count": 22,
   "id": "47f0dfaf",
   "metadata": {},
   "outputs": [],
   "source": [
    "# Lemmatization\n",
    "lemmatized_words = [lemmatizer.lemmatize(word) for word in filtered_words]\n",
    "\n",
    "# Stemming\n",
    "stemmed_words = [stemmer.stem(word) for word in filtered_words]"
   ]
  },
  {
   "cell_type": "code",
   "execution_count": 23,
   "id": "41c5494f",
   "metadata": {},
   "outputs": [
    {
     "name": "stdout",
     "output_type": "stream",
     "text": [
      "Stop Words:\n",
      "{'from', \"isn't\", \"didn't\", 'yourselves', 'him', 'against', 'but', \"won't\", 'they', 'when', 'will', 'very', 'some', 'here', \"doesn't\", 'too', 'wouldn', 'are', 'before', 'what', 'yourself', 'them', 'as', 'there', 'then', 'once', 'on', 'ourselves', \"you'd\", \"aren't\", 'should', 'up', 'if', \"don't\", 'who', 'no', 'each', 'myself', 'after', 'where', 'all', 'during', 'it', 'its', 'these', 'between', 'ma', \"needn't\", \"you've\", 'not', 'the', 've', 'through', 'have', 'such', \"weren't\", 'i', 'only', \"you'll\", \"mightn't\", 'mustn', \"mustn't\", 'by', 'off', \"shan't\", 'and', 'couldn', 'under', 'how', \"wasn't\", \"couldn't\", 'me', 'their', 'about', 'wasn', 'were', 'doing', 'of', 'those', 'hasn', 'we', 'been', 'll', \"should've\", 'other', 'for', 'ours', 'having', 'won', 'both', 't', 'shan', 'same', \"hasn't\", 'did', 'doesn', 'at', 'just', \"hadn't\", 'isn', \"it's\", 'm', 'again', 'why', 'few', 'below', 'now', 'with', 'hers', \"shouldn't\", 'theirs', 'was', 'down', \"haven't\", 'weren', 'don', 'mightn', 'haven', 'her', 'am', 'needn', 'out', 'than', 's', \"wouldn't\", 'yours', 'o', 'own', 'this', 'itself', 'to', 'while', 'had', 'ain', 'that', 'nor', 'most', 'he', 'herself', 'a', 'has', 'because', 'above', 'themselves', 'his', 'in', 'until', \"you're\", 'd', 'any', 'can', 'my', 'didn', 'so', 'an', 'hadn', 'y', 'our', 'further', 'or', 'she', \"that'll\", 'does', 'aren', 'is', 'you', 're', 'your', 'over', 'being', \"she's\", 'himself', 'do', 'shouldn', 'into', 'be', 'more', 'whom', 'which'}\n"
     ]
    }
   ],
   "source": [
    "print(\"Stop Words:\")\n",
    "print(stop_words)\n"
   ]
  },
  {
   "cell_type": "code",
   "execution_count": 24,
   "id": "4ff4a317",
   "metadata": {},
   "outputs": [
    {
     "name": "stdout",
     "output_type": "stream",
     "text": [
      "\n",
      "Lemmatized Words:\n",
      "['enjoys', 'running', 'run', 'park', 'every', 'day', 'raining', '.']\n"
     ]
    }
   ],
   "source": [
    "print(\"\\nLemmatized Words:\")\n",
    "print(lemmatized_words)"
   ]
  },
  {
   "cell_type": "code",
   "execution_count": 25,
   "id": "d09dd9c2",
   "metadata": {},
   "outputs": [
    {
     "name": "stdout",
     "output_type": "stream",
     "text": [
      "\n",
      "Stemmed Words:\n",
      "['enjoy', 'run', 'run', 'park', 'everi', 'day', 'rain', '.']\n"
     ]
    }
   ],
   "source": [
    "print(\"\\nStemmed Words:\")\n",
    "print(stemmed_words)"
   ]
  },
  {
   "cell_type": "code",
   "execution_count": null,
   "id": "503a049c",
   "metadata": {},
   "outputs": [],
   "source": []
  }
 ],
 "metadata": {
  "kernelspec": {
   "display_name": "Python 3 (ipykernel)",
   "language": "python",
   "name": "python3"
  },
  "language_info": {
   "codemirror_mode": {
    "name": "ipython",
    "version": 3
   },
   "file_extension": ".py",
   "mimetype": "text/x-python",
   "name": "python",
   "nbconvert_exporter": "python",
   "pygments_lexer": "ipython3",
   "version": "3.11.3"
  }
 },
 "nbformat": 4,
 "nbformat_minor": 5
}
