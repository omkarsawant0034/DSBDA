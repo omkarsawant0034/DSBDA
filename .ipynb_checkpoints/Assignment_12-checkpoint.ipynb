{
 "cells": [
  {
   "cell_type": "code",
   "execution_count": 1,
   "id": "515b13ba",
   "metadata": {},
   "outputs": [],
   "source": [
    "import pandas as pd\n",
    "import numpy as np"
   ]
  },
  {
   "cell_type": "code",
   "execution_count": 2,
   "id": "15a22430",
   "metadata": {},
   "outputs": [
    {
     "name": "stdout",
     "output_type": "stream",
     "text": [
      "   ID     Name    Role  Salary\n",
      "0   1     Abhi  Editor   10000\n",
      "1   2   Ankita  Author    8000\n",
      "2   3  Prajwal  Author    5000\n",
      "3   4   Shweta  Editor    4000\n",
      "4   5    Omkar  Editor   20000\n"
     ]
    }
   ],
   "source": [
    "df = pd.read_csv(\"./book2.csv\")\n",
    "df.head()\n",
    "print(df)\n"
   ]
  },
  {
   "cell_type": "code",
   "execution_count": 3,
   "id": "7eb61615",
   "metadata": {},
   "outputs": [
    {
     "name": "stdout",
     "output_type": "stream",
     "text": [
      "<class 'pandas.core.frame.DataFrame'>\n",
      "RangeIndex: 5 entries, 0 to 4\n",
      "Data columns (total 4 columns):\n",
      " #   Column  Non-Null Count  Dtype \n",
      "---  ------  --------------  ----- \n",
      " 0   ID      5 non-null      int64 \n",
      " 1   Name    5 non-null      object\n",
      " 2   Role    5 non-null      object\n",
      " 3   Salary  5 non-null      int64 \n",
      "dtypes: int64(2), object(2)\n",
      "memory usage: 292.0+ bytes\n"
     ]
    }
   ],
   "source": [
    "df.info()"
   ]
  },
  {
   "cell_type": "code",
   "execution_count": 4,
   "id": "746a6b3b",
   "metadata": {},
   "outputs": [
    {
     "name": "stdout",
     "output_type": "stream",
     "text": [
      "   ID     Name    Role  Salary\n",
      "0   1     Abhi  Editor   10000\n",
      "1   2   Ankita  Author    8000\n",
      "2   3  Prajwal  Author    5000\n",
      "3   4   Shweta  Editor    4000\n",
      "4   5    Omkar  Editor   20000\n",
      "<class 'pandas.core.frame.DataFrame'>\n",
      "RangeIndex: 5 entries, 0 to 4\n",
      "Data columns (total 4 columns):\n",
      " #   Column  Non-Null Count  Dtype \n",
      "---  ------  --------------  ----- \n",
      " 0   ID      5 non-null      int64 \n",
      " 1   Name    5 non-null      object\n",
      " 2   Role    5 non-null      object\n",
      " 3   Salary  5 non-null      int64 \n",
      "dtypes: int64(2), object(2)\n",
      "memory usage: 292.0+ bytes\n"
     ]
    }
   ],
   "source": [
    "#1. Deleting the column with missing data\n",
    "updated_df = df.dropna(axis=1)\n",
    "print(updated_df)\n",
    "updated_df.info()\n"
   ]
  },
  {
   "cell_type": "code",
   "execution_count": 5,
   "id": "e27e139d",
   "metadata": {},
   "outputs": [
    {
     "name": "stdout",
     "output_type": "stream",
     "text": [
      "   ID     Name    Role  Salary\n",
      "0   1     Abhi  Editor   10000\n",
      "1   2   Ankita  Author    8000\n",
      "2   3  Prajwal  Author    5000\n",
      "3   4   Shweta  Editor    4000\n",
      "4   5    Omkar  Editor   20000\n",
      "<class 'pandas.core.frame.DataFrame'>\n",
      "RangeIndex: 5 entries, 0 to 4\n",
      "Data columns (total 4 columns):\n",
      " #   Column  Non-Null Count  Dtype \n",
      "---  ------  --------------  ----- \n",
      " 0   ID      5 non-null      int64 \n",
      " 1   Name    5 non-null      object\n",
      " 2   Role    5 non-null      object\n",
      " 3   Salary  5 non-null      int64 \n",
      "dtypes: int64(2), object(2)\n",
      "memory usage: 292.0+ bytes\n"
     ]
    }
   ],
   "source": [
    "#2. Deleting the row with missing data\n",
    "updated_df = df.dropna(axis=0)\n",
    "print(updated_df)\n",
    "updated_df.info()"
   ]
  },
  {
   "cell_type": "code",
   "execution_count": 6,
   "id": "2578cf69",
   "metadata": {},
   "outputs": [
    {
     "name": "stdout",
     "output_type": "stream",
     "text": [
      "   ID     Name    Role  Salary\n",
      "0   1     Abhi  Editor   10000\n",
      "1   2   Ankita  Author    8000\n",
      "2   3  Prajwal  Author    5000\n",
      "3   4   Shweta  Editor    4000\n",
      "4   5    Omkar  Editor   20000\n"
     ]
    }
   ],
   "source": [
    "#3. Filling the Missing Values – Imputation\n",
    "updated_df = df\n",
    "updated_df['Salary']=updated_df['Salary'].fillna(updated_df['Salary'].mean())\n",
    "print(updated_df)"
   ]
  },
  {
   "cell_type": "code",
   "execution_count": 7,
   "id": "70159b69",
   "metadata": {},
   "outputs": [
    {
     "name": "stdout",
     "output_type": "stream",
     "text": [
      "   ID     Name    Role  Salary  Salaryismissing\n",
      "0   1     Abhi  Editor   10000            False\n",
      "1   2   Ankita  Author    8000            False\n",
      "2   3  Prajwal  Author    5000            False\n",
      "3   4   Shweta  Editor    4000            False\n",
      "4   5    Omkar  Editor   20000            False\n"
     ]
    }
   ],
   "source": [
    "#4. Imputation with an additional column\n",
    "updated_df = df\n",
    "updated_df['Salaryismissing'] = updated_df['Salary'].isnull()\n",
    "print(updated_df)"
   ]
  },
  {
   "cell_type": "code",
   "execution_count": 8,
   "id": "ecd9ba1e",
   "metadata": {},
   "outputs": [
    {
     "name": "stdout",
     "output_type": "stream",
     "text": [
      "   ID     Name    Role  Salaryismissing\n",
      "0   1     Abhi  Editor            False\n",
      "1   2   Ankita  Author            False\n",
      "2   3  Prajwal  Author            False\n",
      "3   4   Shweta  Editor            False\n",
      "4   5    Omkar  Editor            False\n"
     ]
    },
    {
     "name": "stderr",
     "output_type": "stream",
     "text": [
      "C:\\Users\\omkar\\AppData\\Local\\Temp\\ipykernel_24836\\1729068182.py:5: SettingWithCopyWarning: \n",
      "A value is trying to be set on a copy of a slice from a DataFrame\n",
      "\n",
      "See the caveats in the documentation: https://pandas.pydata.org/pandas-docs/stable/user_guide/indexing.html#returning-a-view-versus-a-copy\n",
      "  testdf.drop(\"Salary\",axis=1,inplace=True)\n"
     ]
    }
   ],
   "source": [
    "#5. Filling with a Regression Model\n",
    "testdf = df[df['Salary'].isnull()==True]\n",
    "traindf = df[df['Salary'].isnull()==False]\n",
    "traindf.drop(\"Salary\",axis=1,inplace=True)\n",
    "testdf.drop(\"Salary\",axis=1,inplace=True)\n",
    "print(traindf)\n"
   ]
  },
  {
   "cell_type": "code",
   "execution_count": null,
   "id": "3bdcc06b",
   "metadata": {},
   "outputs": [],
   "source": []
  },
  {
   "cell_type": "code",
   "execution_count": null,
   "id": "5044b773",
   "metadata": {},
   "outputs": [],
   "source": []
  }
 ],
 "metadata": {
  "kernelspec": {
   "display_name": "Python 3 (ipykernel)",
   "language": "python",
   "name": "python3"
  },
  "language_info": {
   "codemirror_mode": {
    "name": "ipython",
    "version": 3
   },
   "file_extension": ".py",
   "mimetype": "text/x-python",
   "name": "python",
   "nbconvert_exporter": "python",
   "pygments_lexer": "ipython3",
   "version": "3.11.3"
  }
 },
 "nbformat": 4,
 "nbformat_minor": 5
}
