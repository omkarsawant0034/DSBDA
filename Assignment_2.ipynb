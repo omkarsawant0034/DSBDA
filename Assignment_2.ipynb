{
 "cells": [
  {
   "cell_type": "code",
   "execution_count": 13,
   "id": "4e6242b2",
   "metadata": {},
   "outputs": [],
   "source": [
    "import pandas as pd"
   ]
  },
  {
   "cell_type": "code",
   "execution_count": 14,
   "id": "44828ace",
   "metadata": {},
   "outputs": [],
   "source": [
    "Data = pd.read_csv(\"./Book2.csv\")"
   ]
  },
  {
   "cell_type": "code",
   "execution_count": 15,
   "id": "ed000349",
   "metadata": {},
   "outputs": [
    {
     "name": "stdout",
     "output_type": "stream",
     "text": [
      "\n",
      "Before sorting:\n",
      "   ID     Name    Role  Salary\n",
      "0   1     Abhi  Editor   10000\n",
      "1   2   Ankita  Author    8000\n",
      "2   3  Prajwal  Author    5000\n",
      "3   4   Shweta  Editor    4000\n",
      "4   5    Omkar  Editor   20000\n"
     ]
    }
   ],
   "source": [
    "print(\"\\nBefore sorting:\")\n",
    "print(Data)"
   ]
  },
  {
   "cell_type": "code",
   "execution_count": 22,
   "id": "e45974de",
   "metadata": {},
   "outputs": [],
   "source": [
    "Data.sort_values([\"Salary\"],axis=0, ascending=[True], inplace=True)"
   ]
  },
  {
   "cell_type": "code",
   "execution_count": 17,
   "id": "6a33ac74",
   "metadata": {},
   "outputs": [
    {
     "name": "stdout",
     "output_type": "stream",
     "text": [
      "\n",
      "After sorting:\n",
      "   ID     Name    Role  Salary\n",
      "3   4   Shweta  Editor    4000\n",
      "2   3  Prajwal  Author    5000\n",
      "1   2   Ankita  Author    8000\n",
      "0   1     Abhi  Editor   10000\n",
      "4   5    Omkar  Editor   20000\n"
     ]
    }
   ],
   "source": [
    "print(\"\\nAfter sorting:\")\n",
    "print(Data)"
   ]
  },
  {
   "cell_type": "code",
   "execution_count": 23,
   "id": "52120347",
   "metadata": {},
   "outputs": [
    {
     "name": "stdout",
     "output_type": "stream",
     "text": [
      "   ID     Name    Role  Salary\n",
      "3   4   Shweta  Editor    4000\n",
      "2   3  Prajwal  Author    5000\n",
      "1   2   Ankita  Author    8000\n",
      "0   1     Abhi  Editor   10000\n",
      "4   5    Omkar  Editor   20000\n"
     ]
    }
   ],
   "source": [
    "print(Data)"
   ]
  },
  {
   "cell_type": "code",
   "execution_count": 24,
   "id": "fb020a0a",
   "metadata": {},
   "outputs": [
    {
     "name": "stdout",
     "output_type": "stream",
     "text": [
      "             3        2       1       0       4\n",
      "ID           4        3       2       1       5\n",
      "Name    Shweta  Prajwal  Ankita    Abhi   Omkar\n",
      "Role    Editor   Author  Author  Editor  Editor\n",
      "Salary    4000     5000    8000   10000   20000\n"
     ]
    }
   ],
   "source": [
    "print(Data.T)"
   ]
  },
  {
   "cell_type": "code",
   "execution_count": 25,
   "id": "2c2476a9",
   "metadata": {},
   "outputs": [
    {
     "name": "stdout",
     "output_type": "stream",
     "text": [
      "(5, 4)\n"
     ]
    }
   ],
   "source": [
    "print(Data.shape)"
   ]
  },
  {
   "cell_type": "code",
   "execution_count": 26,
   "id": "7ca606af",
   "metadata": {},
   "outputs": [
    {
     "name": "stdout",
     "output_type": "stream",
     "text": [
      "20\n"
     ]
    }
   ],
   "source": [
    "print(Data.size)"
   ]
  },
  {
   "cell_type": "code",
   "execution_count": 27,
   "id": "78e30408",
   "metadata": {},
   "outputs": [],
   "source": [
    "import numpy as np\n",
    "r = np.array([[1, 2, 3],\n",
    "                [4, 5, 6]])\n"
   ]
  },
  {
   "cell_type": "code",
   "execution_count": 28,
   "id": "fff7d576",
   "metadata": {},
   "outputs": [],
   "source": [
    "reshaped_arr = r.reshape(3, 2)"
   ]
  },
  {
   "cell_type": "code",
   "execution_count": 29,
   "id": "decfa0c5",
   "metadata": {},
   "outputs": [
    {
     "data": {
      "text/plain": [
       "array([[1, 2],\n",
       "       [3, 4],\n",
       "       [5, 6]])"
      ]
     },
     "execution_count": 29,
     "metadata": {},
     "output_type": "execute_result"
    }
   ],
   "source": [
    "reshaped_arr"
   ]
  },
  {
   "cell_type": "code",
   "execution_count": null,
   "id": "e1fbffb8",
   "metadata": {},
   "outputs": [],
   "source": []
  }
 ],
 "metadata": {
  "kernelspec": {
   "display_name": "Python 3 (ipykernel)",
   "language": "python",
   "name": "python3"
  },
  "language_info": {
   "codemirror_mode": {
    "name": "ipython",
    "version": 3
   },
   "file_extension": ".py",
   "mimetype": "text/x-python",
   "name": "python",
   "nbconvert_exporter": "python",
   "pygments_lexer": "ipython3",
   "version": "3.11.3"
  }
 },
 "nbformat": 4,
 "nbformat_minor": 5
}
